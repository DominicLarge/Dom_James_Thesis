{
  "nbformat": 4,
  "nbformat_minor": 0,
  "metadata": {
    "colab": {
      "provenance": [],
      "collapsed_sections": [
        "tJWO0_46YMuq"
      ],
      "toc_visible": true
    },
    "kernelspec": {
      "name": "python3",
      "display_name": "Python 3"
    },
    "language_info": {
      "name": "python"
    }
  },
  "cells": [
    {
      "cell_type": "markdown",
      "source": [
        "## Dependencies"
      ],
      "metadata": {
        "id": "tJWO0_46YMuq"
      }
    },
    {
      "cell_type": "code",
      "source": [
        "!pip install pydub SpeechRecognition word2number\n",
        "!apt-get install ffmpeg"
      ],
      "metadata": {
        "colab": {
          "base_uri": "https://localhost:8080/"
        },
        "id": "hFQ0MIvWyn38",
        "outputId": "e14fd44f-2850-4328-f2ff-134ca591e399"
      },
      "execution_count": 81,
      "outputs": [
        {
          "output_type": "stream",
          "name": "stdout",
          "text": [
            "Requirement already satisfied: pydub in /usr/local/lib/python3.10/dist-packages (0.25.1)\n",
            "Requirement already satisfied: SpeechRecognition in /usr/local/lib/python3.10/dist-packages (3.10.4)\n",
            "Requirement already satisfied: word2number in /usr/local/lib/python3.10/dist-packages (1.1)\n",
            "Requirement already satisfied: requests>=2.26.0 in /usr/local/lib/python3.10/dist-packages (from SpeechRecognition) (2.31.0)\n",
            "Requirement already satisfied: typing-extensions in /usr/local/lib/python3.10/dist-packages (from SpeechRecognition) (4.12.2)\n",
            "Requirement already satisfied: charset-normalizer<4,>=2 in /usr/local/lib/python3.10/dist-packages (from requests>=2.26.0->SpeechRecognition) (3.3.2)\n",
            "Requirement already satisfied: idna<4,>=2.5 in /usr/local/lib/python3.10/dist-packages (from requests>=2.26.0->SpeechRecognition) (3.7)\n",
            "Requirement already satisfied: urllib3<3,>=1.21.1 in /usr/local/lib/python3.10/dist-packages (from requests>=2.26.0->SpeechRecognition) (2.0.7)\n",
            "Requirement already satisfied: certifi>=2017.4.17 in /usr/local/lib/python3.10/dist-packages (from requests>=2.26.0->SpeechRecognition) (2024.7.4)\n",
            "Reading package lists... Done\n",
            "Building dependency tree... Done\n",
            "Reading state information... Done\n",
            "ffmpeg is already the newest version (7:4.4.2-0ubuntu0.22.04.1).\n",
            "0 upgraded, 0 newly installed, 0 to remove and 45 not upgraded.\n"
          ]
        }
      ]
    },
    {
      "cell_type": "code",
      "source": [
        "from google.colab import output\n",
        "import re\n",
        "from word2number import w2n\n",
        "import nltk\n",
        "from nltk import word_tokenize, pos_tag, sent_tokenize"
      ],
      "metadata": {
        "id": "dPkkGATU0ta9"
      },
      "execution_count": 82,
      "outputs": []
    },
    {
      "cell_type": "code",
      "source": [
        "# Download NLTK resources\n",
        "nltk.download('punkt')\n",
        "nltk.download('averaged_perceptron_tagger')"
      ],
      "metadata": {
        "colab": {
          "base_uri": "https://localhost:8080/"
        },
        "id": "w6_wWN8A18xe",
        "outputId": "8612c4d0-8dec-40a8-bc43-12a01cc5fd76"
      },
      "execution_count": 83,
      "outputs": [
        {
          "output_type": "stream",
          "name": "stderr",
          "text": [
            "[nltk_data] Downloading package punkt to /root/nltk_data...\n",
            "[nltk_data]   Package punkt is already up-to-date!\n",
            "[nltk_data] Downloading package averaged_perceptron_tagger to\n",
            "[nltk_data]     /root/nltk_data...\n",
            "[nltk_data]   Package averaged_perceptron_tagger is already up-to-\n",
            "[nltk_data]       date!\n"
          ]
        },
        {
          "output_type": "execute_result",
          "data": {
            "text/plain": [
              "True"
            ]
          },
          "metadata": {},
          "execution_count": 83
        }
      ]
    },
    {
      "cell_type": "code",
      "source": [
        "# Define a global variable to store the transcript\n",
        "transcript_text = \"\""
      ],
      "metadata": {
        "id": "LDfREj3V19hD"
      },
      "execution_count": 84,
      "outputs": []
    },
    {
      "cell_type": "code",
      "source": [
        "# Function to handle uploaded audio\n",
        "def upload_audio(audio_data):\n",
        "    global transcript_text\n",
        "    file_path = decode_audio(audio_data)\n",
        "    transcript_text = transcribe_audio(file_path)\n",
        "    transcript_text = punctuate_text(transcript_text)\n",
        "    print(f\"Transcription: {transcript_text}\")\n",
        "\n",
        "output.register_callback('notebook.upload_audio', upload_audio)"
      ],
      "metadata": {
        "id": "IzzisNgW1_go"
      },
      "execution_count": 85,
      "outputs": []
    },
    {
      "cell_type": "code",
      "source": [
        "from IPython.display import display, Javascript\n",
        "import base64\n",
        "import speech_recognition as sr\n",
        "from pydub import AudioSegment\n",
        "import io"
      ],
      "metadata": {
        "id": "9gtZCzyH0uJn"
      },
      "execution_count": 86,
      "outputs": []
    },
    {
      "cell_type": "markdown",
      "source": [
        "## Record Audio Prompt"
      ],
      "metadata": {
        "id": "HgFklmLU1EFd"
      }
    },
    {
      "cell_type": "markdown",
      "source": [
        "**Use Prompt Format:** I need to create a table that has a height of [----] feet , with a thickness of [----] inches, with [----] sides, and a radius of [----] feet. The table must have a corner fillet of [----] inches, with overall edge fillets of [----] inches. For the legs, make the leg radius [----] inches, with a skew of [----] degrees and a taper of [----] inches."
      ],
      "metadata": {
        "id": "sDtVBAqJjOF0"
      }
    },
    {
      "cell_type": "code",
      "source": [
        "# JavaScript code for recording audio\n",
        "record_audio_js = \"\"\"\n",
        "const sleep = time => new Promise(resolve => setTimeout(resolve, time))\n",
        "\n",
        "const b2text = blob => new Promise(resolve => {\n",
        "  const reader = new FileReader()\n",
        "  reader.onloadend = e => resolve(e.srcElement.result)\n",
        "  reader.readAsDataURL(blob)\n",
        "})\n",
        "\n",
        "let recorder, stream, chunks = []\n",
        "\n",
        "async function startRecording() {\n",
        "  stream = await navigator.mediaDevices.getUserMedia({ audio: true })\n",
        "  recorder = new MediaRecorder(stream)\n",
        "  recorder.ondataavailable = e => chunks.push(e.data)\n",
        "  recorder.start()\n",
        "  start_button.disabled = true\n",
        "  stop_button.disabled = false\n",
        "}\n",
        "\n",
        "function stopRecording() {\n",
        "  return new Promise(async resolve => {\n",
        "    recorder.onstop = async () => {\n",
        "      const blob = new Blob(chunks)\n",
        "      const audio = await b2text(blob)\n",
        "      resolve(audio)\n",
        "    }\n",
        "    recorder.stop()\n",
        "    stream.getTracks().forEach(track => track.stop())\n",
        "    start_button.disabled = false\n",
        "    stop_button.disabled = true\n",
        "  })\n",
        "}\n",
        "\n",
        "var start_button = document.createElement('button');\n",
        "start_button.textContent = \"Start Recording\";\n",
        "start_button.style.display = \"block\";\n",
        "start_button.style.margin = \"10px 0\";\n",
        "start_button.onclick = startRecording;\n",
        "\n",
        "var stop_button = document.createElement('button');\n",
        "stop_button.textContent = \"Stop Recording\";\n",
        "stop_button.style.display = \"block\";\n",
        "stop_button.style.margin = \"10px 0\";\n",
        "stop_button.disabled = true;\n",
        "stop_button.onclick = async () => {\n",
        "  const audio = await stopRecording();\n",
        "  google.colab.kernel.invokeFunction('notebook.upload_audio', [audio], {});\n",
        "};\n",
        "\n",
        "document.body.appendChild(start_button);\n",
        "document.body.appendChild(stop_button);\n",
        "\"\"\"\n",
        "\n",
        "display(Javascript(record_audio_js))\n",
        "\n",
        "def decode_audio(audio_data):\n",
        "    audio_data = audio_data.split(',')[1]\n",
        "    audio_bytes = base64.b64decode(audio_data)\n",
        "    audio = AudioSegment.from_file(io.BytesIO(audio_bytes), format=\"webm\")\n",
        "    audio.export(\"output.wav\", format=\"wav\")\n",
        "    return \"output.wav\"\n",
        "\n",
        "# Function to transcribe audio\n",
        "def transcribe_audio(file_path):\n",
        "    recognizer = sr.Recognizer()\n",
        "    with sr.AudioFile(file_path) as source:\n",
        "        audio = recognizer.record(source)\n",
        "    try:\n",
        "        return recognizer.recognize_google(audio)\n",
        "    except sr.UnknownValueError:\n",
        "        return \"Could not understand audio\"\n",
        "    except sr.RequestError as e:\n",
        "        return f\"Could not request results; {e}\"\n",
        "\n",
        "# Function to punctuate text\n",
        "def punctuate_text(text):\n",
        "    # Split text into sentences\n",
        "    sentences = sent_tokenize(text)\n",
        "    punctuated_sentences = []\n",
        "\n",
        "    for sentence in sentences:\n",
        "        # Capitalize the first letter of the sentence\n",
        "        sentence = sentence.capitalize()\n",
        "\n",
        "        # Convert numbers from words to digits\n",
        "        sentence = re.sub(r'\\b(one|two|three|four|five|six|seven|eight|nine|ten|eleven|twelve|thirteen|fourteen|fifteen|sixteen|seventeen|eighteen|nineteen|twenty)\\b',\n",
        "                          lambda match: str(w2n.word_to_num(match.group())), sentence)\n",
        "\n",
        "        # Add commas before conjunctions if they follow a clause\n",
        "        sentence = re.sub(r'(\\b\\w+\\b)\\s(and|but|or|nor|for|so|yet)\\s(\\b\\w+\\b)',\n",
        "                          r'\\1, \\2 \\3', sentence)\n",
        "\n",
        "        # Add commas in lists (basic approach for commas in lists)\n",
        "        sentence = re.sub(r'(\\b\\w+\\b)\\s(\\b\\w+\\b)\\s(and|or)\\s(\\b\\w+\\b)',\n",
        "                          r'\\1, \\2, \\3 \\4', sentence)\n",
        "\n",
        "        # Remove commas that follow numbers\n",
        "        sentence = re.sub(r'(\\d+),(\\s)', r'\\1\\2', sentence)  # Remove comma directly after numbers\n",
        "\n",
        "        # Ensure the sentence ends with a period\n",
        "        if not sentence.endswith('.'):\n",
        "            sentence += '.'\n",
        "\n",
        "        punctuated_sentences.append(sentence)\n",
        "\n",
        "    return ' '.join(punctuated_sentences)\n",
        "\n",
        "print(transcript_text)\n"
      ],
      "metadata": {
        "colab": {
          "base_uri": "https://localhost:8080/",
          "height": 144
        },
        "id": "1aMPsHO22Ji0",
        "outputId": "5a1f0aff-b3ba-49ee-9a6c-fb94c9af33b5"
      },
      "execution_count": 189,
      "outputs": [
        {
          "output_type": "display_data",
          "data": {
            "text/plain": [
              "<IPython.core.display.Javascript object>"
            ],
            "application/javascript": [
              "\n",
              "const sleep = time => new Promise(resolve => setTimeout(resolve, time))\n",
              "\n",
              "const b2text = blob => new Promise(resolve => {\n",
              "  const reader = new FileReader()\n",
              "  reader.onloadend = e => resolve(e.srcElement.result)\n",
              "  reader.readAsDataURL(blob)\n",
              "})\n",
              "\n",
              "let recorder, stream, chunks = []\n",
              "\n",
              "async function startRecording() {\n",
              "  stream = await navigator.mediaDevices.getUserMedia({ audio: true })\n",
              "  recorder = new MediaRecorder(stream)\n",
              "  recorder.ondataavailable = e => chunks.push(e.data)\n",
              "  recorder.start()\n",
              "  start_button.disabled = true\n",
              "  stop_button.disabled = false\n",
              "}\n",
              "\n",
              "function stopRecording() {\n",
              "  return new Promise(async resolve => {\n",
              "    recorder.onstop = async () => {\n",
              "      const blob = new Blob(chunks)\n",
              "      const audio = await b2text(blob)\n",
              "      resolve(audio)\n",
              "    }\n",
              "    recorder.stop()\n",
              "    stream.getTracks().forEach(track => track.stop())\n",
              "    start_button.disabled = false\n",
              "    stop_button.disabled = true\n",
              "  })\n",
              "}\n",
              "\n",
              "var start_button = document.createElement('button');\n",
              "start_button.textContent = \"Start Recording\";\n",
              "start_button.style.display = \"block\";\n",
              "start_button.style.margin = \"10px 0\";\n",
              "start_button.onclick = startRecording;\n",
              "\n",
              "var stop_button = document.createElement('button');\n",
              "stop_button.textContent = \"Stop Recording\";\n",
              "stop_button.style.display = \"block\";\n",
              "stop_button.style.margin = \"10px 0\";\n",
              "stop_button.disabled = true;\n",
              "stop_button.onclick = async () => {\n",
              "  const audio = await stopRecording();\n",
              "  google.colab.kernel.invokeFunction('notebook.upload_audio', [audio], {});\n",
              "};\n",
              "\n",
              "document.body.appendChild(start_button);\n",
              "document.body.appendChild(stop_button);\n"
            ]
          },
          "metadata": {}
        },
        {
          "output_type": "stream",
          "name": "stdout",
          "text": [
            "I need to create a table that has a height of 3.5 ft with a thickness of 0.25 in with 4 sides, and a radius of 2.5 ft.\n",
            "Transcription: I need to create a table that has a height of 3.5 ft with a thickness of 0.25 in with 5 sides, and a radius of 5 ft the table must have a corner fillet of 0.41 inches, and overall edge fillets of 0.1 inches, for the legs make the leg radius 0.2 inches with a few of 1.25 degrees, and the taper of 0.25 inches.\n"
          ]
        }
      ]
    },
    {
      "cell_type": "markdown",
      "source": [
        "**Use Prompt Format:** I need to create a table that has a height of [----] feet , with a thickness of [----] inches, with [----] sides, and a radius of [----] feet. The table must have a corner fillet of [----] inches, with overall edge fillets of [----] inches. For the legs, make the leg radius [----] inches, with a skew of [----] degrees and a taper of [----] inches."
      ],
      "metadata": {
        "id": "Mef0_Ragf-nB"
      }
    },
    {
      "cell_type": "code",
      "source": [
        "prompt = transcript_text\n",
        "print(prompt)"
      ],
      "metadata": {
        "colab": {
          "base_uri": "https://localhost:8080/"
        },
        "id": "hHsNfrnf1QnF",
        "outputId": "9f705c26-3ab1-434b-a20c-18accacc8e5c"
      },
      "execution_count": 190,
      "outputs": [
        {
          "output_type": "stream",
          "name": "stdout",
          "text": [
            "I need to create a table that has a height of 3.5 ft with a thickness of 0.25 in with 5 sides, and a radius of 5 ft the table must have a corner fillet of 0.41 inches, and overall edge fillets of 0.1 inches, for the legs make the leg radius 0.2 inches with a few of 1.25 degrees, and the taper of 0.25 inches.\n"
          ]
        }
      ]
    },
    {
      "cell_type": "markdown",
      "source": [
        "## Capitalize / Fix Prompt"
      ],
      "metadata": {
        "id": "C7W_DFMi0cLS"
      }
    },
    {
      "cell_type": "code",
      "source": [
        "# List of specific words to capitalize\n",
        "words_to_capitalize = [\"tall\", \"height\", \"thickness\", \"radius\", \"corner fillet\", \"edge fillets\", \"leg radius\", \"skew\", \"taper\", \"degrees\", \"ft\", \"feet\", \"inch\", \"inches\", \"in\"]\n",
        "\n",
        "# Tokenize the prompt into words\n",
        "tokens = word_tokenize(prompt)\n",
        "\n",
        "# Perform part-of-speech tagging\n",
        "tagged_tokens = pos_tag(tokens)\n",
        "\n",
        "# Initialize a list to store capitalized words\n",
        "capitalized_words = []"
      ],
      "metadata": {
        "id": "cAmwhcWC2bT2"
      },
      "execution_count": 192,
      "outputs": []
    },
    {
      "cell_type": "code",
      "source": [
        "# Iterate through tagged tokens\n",
        "for token, tag in tagged_tokens:\n",
        "    if (token.lower() in words_to_capitalize or\n",
        "        tag.startswith('NN')):  # NN for nouns, VB for verbs, JJ for adjectives\n",
        "        capitalized_words.append(token.capitalize())\n",
        "    else:\n",
        "        capitalized_words.append(token)\n",
        "\n",
        "# Join the words back into a single string\n",
        "capitalized_prompt = ' '.join(capitalized_words)\n",
        "\n",
        "# Remove any space before the period at the end\n",
        "if capitalized_prompt.endswith('.'):\n",
        "    capitalized_prompt = capitalized_prompt[:-2] + '.'"
      ],
      "metadata": {
        "id": "Ev4uFBF82d4e"
      },
      "execution_count": 193,
      "outputs": []
    },
    {
      "cell_type": "code",
      "source": [
        "print(\"Original Prompt:\")\n",
        "print(prompt)\n",
        "print(\"\\nCapitalized Prompt:\")\n",
        "print(capitalized_prompt)"
      ],
      "metadata": {
        "colab": {
          "base_uri": "https://localhost:8080/"
        },
        "id": "m8fA7z6t2f0t",
        "outputId": "d62f3021-6ceb-40f9-d146-4aecbd850fdc"
      },
      "execution_count": 194,
      "outputs": [
        {
          "output_type": "stream",
          "name": "stdout",
          "text": [
            "Original Prompt:\n",
            "I need to create a table that has a height of 3.5 ft with a thickness of 0.25 in with 5 sides, and a radius of 5 ft the table must have a corner fillet of 0.41 inches, and overall edge fillets of 0.1 inches, for the legs make the leg radius 0.2 inches with a few of 1.25 degrees, and the taper of 0.25 inches.\n",
            "\n",
            "Capitalized Prompt:\n",
            "I need to create a Table that has a Height of 3.5 Ft with a Thickness of 0.25 In with 5 Sides , and a Radius of 5 Ft the Table must have a corner Fillet of 0.41 Inches , and overall Edge Fillets of 0.1 Inches , for the Legs make the Leg Radius 0.2 Inches with a few of 1.25 Degrees , and the Taper of 0.25 Inches.\n"
          ]
        }
      ]
    },
    {
      "cell_type": "markdown",
      "source": [
        "## Find / Assign Variables for Family Member Creation"
      ],
      "metadata": {
        "id": "VrHeJMUB5mLJ"
      }
    },
    {
      "cell_type": "code",
      "source": [
        "import re"
      ],
      "metadata": {
        "id": "n7jxYZe_f4Uk"
      },
      "execution_count": 195,
      "outputs": []
    },
    {
      "cell_type": "code",
      "source": [
        "def extract_variables(capitalized_prompt):\n",
        "    # Define regular expressions for each variable\n",
        "    height_pattern = r'Height\\s+of\\s+(\\d+\\.?\\d*)\\s+Ft'\n",
        "    thickness_pattern = r'Thickness\\s+of\\s+(\\d+\\.?\\d*)\\s+In'\n",
        "    sides_pattern = r'with\\s+(\\d+)\\s+Sides'\n",
        "    radius_pattern = r'Radius\\s+of\\s+(\\d+\\.?\\d*)\\s+Ft'\n",
        "    cornerfillet_pattern = r'corner Fillet\\s+of\\s+(\\d+\\.?\\d*)\\s+Inches'\n",
        "    edgefillet_pattern = r'Edge Fillets\\s+of\\s+(\\d+\\.?\\d*)\\s+Inches'\n",
        "    legradius_pattern = r'Leg Radius\\s+(\\d+\\.?\\d*)\\s+Inches'\n",
        "    skew_pattern = r'Skew\\s+of\\s+(\\d+\\.?\\d*)\\s+Degrees'\n",
        "    taper_pattern = r'Taper\\s+of\\s+(\\d+\\.?\\d*)\\s+Inches'\n",
        "\n",
        "    # Search for each pattern in the prompt\n",
        "    height_match = re.search(height_pattern, capitalized_prompt, re.IGNORECASE)\n",
        "    thickness_match = re.search(thickness_pattern, capitalized_prompt, re.IGNORECASE)\n",
        "    sides_match = re.search(sides_pattern, capitalized_prompt, re.IGNORECASE)\n",
        "    radius_match = re.search(radius_pattern, capitalized_prompt, re.IGNORECASE)\n",
        "    cornerfillet_match = re.search(cornerfillet_pattern, capitalized_prompt, re.IGNORECASE)\n",
        "    edgefillet_match = re.search(edgefillet_pattern, capitalized_prompt, re.IGNORECASE)\n",
        "    legradius_match = re.search(legradius_pattern, capitalized_prompt, re.IGNORECASE)\n",
        "    skew_match = re.search(skew_pattern, capitalized_prompt, re.IGNORECASE)\n",
        "    taper_match = re.search(taper_pattern, capitalized_prompt, re.IGNORECASE)\n",
        "\n",
        "    # Extract values or return None if not found\n",
        "    height = float(height_match.group(1)) if height_match else None\n",
        "    thickness = float(thickness_match.group(1)) if thickness_match else None\n",
        "    sides = int(sides_match.group(1)) if sides_match else None\n",
        "    radius = float(radius_match.group(1)) if radius_match else None\n",
        "    cornerfillet = float(cornerfillet_match.group(1)) if cornerfillet_match else None\n",
        "    edgefillet = float(edgefillet_match.group(1)) if edgefillet_match else None\n",
        "    legradius = float(legradius_match.group(1)) if legradius_match else None\n",
        "    skew = float(skew_match.group(1)) if skew_match else None\n",
        "    taper = float(taper_match.group(1)) if taper_match else None\n",
        "\n",
        "    return {\n",
        "        'Height': height,\n",
        "        'Thickness': thickness,\n",
        "        'Sides': sides,\n",
        "        'Radius': radius,\n",
        "        'Corner Fillet': cornerfillet,\n",
        "        'Edge Fillets': edgefillet,\n",
        "        'Leg Radius': legradius,\n",
        "        'Skew': skew,\n",
        "        'Taper': taper\n",
        "    }"
      ],
      "metadata": {
        "id": "qBCeYysaf5EE"
      },
      "execution_count": 222,
      "outputs": []
    },
    {
      "cell_type": "code",
      "source": [
        "# Example usage\n",
        "variables = extract_variables(capitalized_prompt)\n",
        "print(variables)"
      ],
      "metadata": {
        "colab": {
          "base_uri": "https://localhost:8080/"
        },
        "id": "S3ncPehph1F-",
        "outputId": "aa759461-05aa-451a-846a-95622f4ee3f0"
      },
      "execution_count": 223,
      "outputs": [
        {
          "output_type": "stream",
          "name": "stdout",
          "text": [
            "{'Height': 3.5, 'Thickness': 0.25, 'Sides': 5, 'Radius': 5.0, 'Corner Fillet': 0.41, 'Edge Fillets': 0.1, 'Leg Radius': 0.2, 'Skew': None, 'Taper': 0.25}\n"
          ]
        }
      ]
    },
    {
      "cell_type": "code",
      "source": [],
      "metadata": {
        "id": "fefgoRsAiMal"
      },
      "execution_count": null,
      "outputs": []
    }
  ]
}