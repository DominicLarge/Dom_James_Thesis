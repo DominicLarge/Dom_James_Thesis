{
  "nbformat": 4,
  "nbformat_minor": 0,
  "metadata": {
    "colab": {
      "provenance": [],
      "collapsed_sections": [
        "tJWO0_46YMuq"
      ],
      "toc_visible": true
    },
    "kernelspec": {
      "name": "python3",
      "display_name": "Python 3"
    },
    "language_info": {
      "name": "python"
    }
  },
  "cells": [
    {
      "cell_type": "markdown",
      "source": [
        "## Dependencies"
      ],
      "metadata": {
        "id": "tJWO0_46YMuq"
      }
    },
    {
      "cell_type": "code",
      "source": [
        "!pip install pydub SpeechRecognition word2number\n",
        "!apt-get install ffmpeg"
      ],
      "metadata": {
        "colab": {
          "base_uri": "https://localhost:8080/"
        },
        "id": "hFQ0MIvWyn38",
        "outputId": "f6e4de3c-27d6-4500-db98-7778913b6c1a"
      },
      "execution_count": 15,
      "outputs": [
        {
          "output_type": "stream",
          "name": "stdout",
          "text": [
            "Requirement already satisfied: pydub in /usr/local/lib/python3.10/dist-packages (0.25.1)\n",
            "Requirement already satisfied: SpeechRecognition in /usr/local/lib/python3.10/dist-packages (3.10.4)\n",
            "Requirement already satisfied: word2number in /usr/local/lib/python3.10/dist-packages (1.1)\n",
            "Requirement already satisfied: requests>=2.26.0 in /usr/local/lib/python3.10/dist-packages (from SpeechRecognition) (2.32.3)\n",
            "Requirement already satisfied: typing-extensions in /usr/local/lib/python3.10/dist-packages (from SpeechRecognition) (4.12.2)\n",
            "Requirement already satisfied: charset-normalizer<4,>=2 in /usr/local/lib/python3.10/dist-packages (from requests>=2.26.0->SpeechRecognition) (3.3.2)\n",
            "Requirement already satisfied: idna<4,>=2.5 in /usr/local/lib/python3.10/dist-packages (from requests>=2.26.0->SpeechRecognition) (3.7)\n",
            "Requirement already satisfied: urllib3<3,>=1.21.1 in /usr/local/lib/python3.10/dist-packages (from requests>=2.26.0->SpeechRecognition) (2.0.7)\n",
            "Requirement already satisfied: certifi>=2017.4.17 in /usr/local/lib/python3.10/dist-packages (from requests>=2.26.0->SpeechRecognition) (2024.7.4)\n",
            "Reading package lists... Done\n",
            "Building dependency tree... Done\n",
            "Reading state information... Done\n",
            "ffmpeg is already the newest version (7:4.4.2-0ubuntu0.22.04.1).\n",
            "0 upgraded, 0 newly installed, 0 to remove and 45 not upgraded.\n"
          ]
        }
      ]
    },
    {
      "cell_type": "code",
      "source": [
        "from google.colab import output\n",
        "import re\n",
        "from word2number import w2n\n",
        "import nltk\n",
        "from nltk import word_tokenize, pos_tag, sent_tokenize\n",
        "import json\n",
        "from google.colab import files\n",
        "from IPython.display import display, Javascript\n",
        "import base64\n",
        "import speech_recognition as sr\n",
        "from pydub import AudioSegment\n",
        "import io"
      ],
      "metadata": {
        "id": "dPkkGATU0ta9"
      },
      "execution_count": 16,
      "outputs": []
    },
    {
      "cell_type": "code",
      "source": [
        "# Download NLTK resources\n",
        "nltk.download('punkt')\n",
        "nltk.download('averaged_perceptron_tagger')"
      ],
      "metadata": {
        "colab": {
          "base_uri": "https://localhost:8080/"
        },
        "id": "w6_wWN8A18xe",
        "outputId": "f8c0156e-c68d-491d-96f7-03995b0be63c"
      },
      "execution_count": 17,
      "outputs": [
        {
          "output_type": "stream",
          "name": "stderr",
          "text": [
            "[nltk_data] Downloading package punkt to /root/nltk_data...\n",
            "[nltk_data]   Package punkt is already up-to-date!\n",
            "[nltk_data] Downloading package averaged_perceptron_tagger to\n",
            "[nltk_data]     /root/nltk_data...\n",
            "[nltk_data]   Package averaged_perceptron_tagger is already up-to-\n",
            "[nltk_data]       date!\n"
          ]
        },
        {
          "output_type": "execute_result",
          "data": {
            "text/plain": [
              "True"
            ]
          },
          "metadata": {},
          "execution_count": 17
        }
      ]
    },
    {
      "cell_type": "code",
      "source": [
        "# Define a global variable to store the transcript\n",
        "transcript_text = \"\""
      ],
      "metadata": {
        "id": "LDfREj3V19hD"
      },
      "execution_count": 18,
      "outputs": []
    },
    {
      "cell_type": "code",
      "source": [
        "# Function to handle uploaded audio\n",
        "def upload_audio(audio_data):\n",
        "    global transcript_text\n",
        "    file_path = decode_audio(audio_data)\n",
        "    transcript_text = transcribe_audio(file_path)\n",
        "    transcript_text = punctuate_text(transcript_text)\n",
        "    print(f\"Transcription: {transcript_text}\")\n",
        "\n",
        "output.register_callback('notebook.upload_audio', upload_audio)"
      ],
      "metadata": {
        "id": "IzzisNgW1_go"
      },
      "execution_count": 19,
      "outputs": []
    },
    {
      "cell_type": "markdown",
      "source": [
        "## Record Audio Prompt"
      ],
      "metadata": {
        "id": "HgFklmLU1EFd"
      }
    },
    {
      "cell_type": "markdown",
      "source": [
        "Variables needed in Spoken Prompt: **Height, Corner Fillet, Leg Insert, Sides, Thickness**\n",
        "\n",
        "When speaking your Prompt, remember to make sure that your Variable in the prompt and its associated value are closer together than any other values listed. If they are too close, they will get confused and mixed, i.e, the more detail and words used, the better!\n",
        "\n",
        "Example: \" *Please create a table that has 4 sides, with a height of 3 feet and use a leg insert of 4 inches. Make it 2 inches thick with corner fillets of 4 inches.* \""
      ],
      "metadata": {
        "id": "sDtVBAqJjOF0"
      }
    },
    {
      "cell_type": "code",
      "source": [
        "# JavaScript code for recording audio\n",
        "record_audio_js = \"\"\"\n",
        "const sleep = time => new Promise(resolve => setTimeout(resolve, time))\n",
        "\n",
        "const b2text = blob => new Promise(resolve => {\n",
        "  const reader = new FileReader()\n",
        "  reader.onloadend = e => resolve(e.srcElement.result)\n",
        "  reader.readAsDataURL(blob)\n",
        "})\n",
        "\n",
        "let recorder, stream, chunks = []\n",
        "\n",
        "async function startRecording() {\n",
        "  stream = await navigator.mediaDevices.getUserMedia({ audio: true })\n",
        "  recorder = new MediaRecorder(stream)\n",
        "  recorder.ondataavailable = e => chunks.push(e.data)\n",
        "  recorder.start()\n",
        "  start_button.disabled = true\n",
        "  stop_button.disabled = false\n",
        "}\n",
        "\n",
        "function stopRecording() {\n",
        "  return new Promise(async resolve => {\n",
        "    recorder.onstop = async () => {\n",
        "      const blob = new Blob(chunks)\n",
        "      const audio = await b2text(blob)\n",
        "      resolve(audio)\n",
        "    }\n",
        "    recorder.stop()\n",
        "    stream.getTracks().forEach(track => track.stop())\n",
        "    start_button.disabled = false\n",
        "    stop_button.disabled = true\n",
        "  })\n",
        "}\n",
        "\n",
        "var start_button = document.createElement('button');\n",
        "start_button.textContent = \"Start Recording\";\n",
        "start_button.style.display = \"block\";\n",
        "start_button.style.margin = \"10px 0\";\n",
        "start_button.onclick = startRecording;\n",
        "\n",
        "var stop_button = document.createElement('button');\n",
        "stop_button.textContent = \"Stop Recording\";\n",
        "stop_button.style.display = \"block\";\n",
        "stop_button.style.margin = \"10px 0\";\n",
        "stop_button.disabled = true;\n",
        "stop_button.onclick = async () => {\n",
        "  const audio = await stopRecording();\n",
        "  google.colab.kernel.invokeFunction('notebook.upload_audio', [audio], {});\n",
        "};\n",
        "\n",
        "document.body.appendChild(start_button);\n",
        "document.body.appendChild(stop_button);\n",
        "\"\"\"\n",
        "\n",
        "display(Javascript(record_audio_js))\n",
        "\n",
        "def decode_audio(audio_data):\n",
        "    audio_data = audio_data.split(',')[1]\n",
        "    audio_bytes = base64.b64decode(audio_data)\n",
        "    audio = AudioSegment.from_file(io.BytesIO(audio_bytes), format=\"webm\")\n",
        "    audio.export(\"output.wav\", format=\"wav\")\n",
        "    return \"output.wav\"\n",
        "\n",
        "# Function to transcribe audio\n",
        "def transcribe_audio(file_path):\n",
        "    recognizer = sr.Recognizer()\n",
        "    with sr.AudioFile(file_path) as source:\n",
        "        audio = recognizer.record(source)\n",
        "    try:\n",
        "        return recognizer.recognize_google(audio)\n",
        "    except sr.UnknownValueError:\n",
        "        return \"Could not understand audio\"\n",
        "    except sr.RequestError as e:\n",
        "        return f\"Could not request results; {e}\"\n",
        "\n",
        "# Function to punctuate text\n",
        "def punctuate_text(text):\n",
        "    # Split text into sentences\n",
        "    sentences = sent_tokenize(text)\n",
        "    punctuated_sentences = []\n",
        "\n",
        "    for sentence in sentences:\n",
        "        # Capitalize the first letter of the sentence\n",
        "        sentence = sentence.capitalize()\n",
        "\n",
        "        # Convert numbers from words to digits\n",
        "        sentence = re.sub(r'\\b(one|two|three|four|five|six|seven|eight|nine|ten|eleven|twelve|thirteen|fourteen|fifteen|sixteen|seventeen|eighteen|nineteen|twenty)\\b',\n",
        "                          lambda match: str(w2n.word_to_num(match.group())), sentence)\n",
        "\n",
        "        # Add commas before conjunctions if they follow a clause\n",
        "        sentence = re.sub(r'(\\b\\w+\\b)\\s(and|but|or|nor|for|so|yet)\\s(\\b\\w+\\b)',\n",
        "                          r'\\1, \\2 \\3', sentence)\n",
        "\n",
        "        # Add commas in lists (basic approach for commas in lists)\n",
        "        sentence = re.sub(r'(\\b\\w+\\b)\\s(\\b\\w+\\b)\\s(and|or)\\s(\\b\\w+\\b)',\n",
        "                          r'\\1, \\2, \\3 \\4', sentence)\n",
        "\n",
        "        # Remove commas that follow numbers\n",
        "        sentence = re.sub(r'(\\d+),(\\s)', r'\\1\\2', sentence)  # Remove comma directly after numbers\n",
        "\n",
        "        # Ensure the sentence ends with a period\n",
        "        if not sentence.endswith('.'):\n",
        "            sentence += '.'\n",
        "\n",
        "        punctuated_sentences.append(sentence)\n",
        "\n",
        "    return ' '.join(punctuated_sentences)\n",
        "\n",
        "print(transcript_text)\n"
      ],
      "metadata": {
        "colab": {
          "base_uri": "https://localhost:8080/",
          "height": 144
        },
        "id": "1aMPsHO22Ji0",
        "outputId": "b22ad55d-c7e6-4782-d18f-d74cdd496ad7"
      },
      "execution_count": null,
      "outputs": [
        {
          "output_type": "display_data",
          "data": {
            "text/plain": [
              "<IPython.core.display.Javascript object>"
            ],
            "application/javascript": [
              "\n",
              "const sleep = time => new Promise(resolve => setTimeout(resolve, time))\n",
              "\n",
              "const b2text = blob => new Promise(resolve => {\n",
              "  const reader = new FileReader()\n",
              "  reader.onloadend = e => resolve(e.srcElement.result)\n",
              "  reader.readAsDataURL(blob)\n",
              "})\n",
              "\n",
              "let recorder, stream, chunks = []\n",
              "\n",
              "async function startRecording() {\n",
              "  stream = await navigator.mediaDevices.getUserMedia({ audio: true })\n",
              "  recorder = new MediaRecorder(stream)\n",
              "  recorder.ondataavailable = e => chunks.push(e.data)\n",
              "  recorder.start()\n",
              "  start_button.disabled = true\n",
              "  stop_button.disabled = false\n",
              "}\n",
              "\n",
              "function stopRecording() {\n",
              "  return new Promise(async resolve => {\n",
              "    recorder.onstop = async () => {\n",
              "      const blob = new Blob(chunks)\n",
              "      const audio = await b2text(blob)\n",
              "      resolve(audio)\n",
              "    }\n",
              "    recorder.stop()\n",
              "    stream.getTracks().forEach(track => track.stop())\n",
              "    start_button.disabled = false\n",
              "    stop_button.disabled = true\n",
              "  })\n",
              "}\n",
              "\n",
              "var start_button = document.createElement('button');\n",
              "start_button.textContent = \"Start Recording\";\n",
              "start_button.style.display = \"block\";\n",
              "start_button.style.margin = \"10px 0\";\n",
              "start_button.onclick = startRecording;\n",
              "\n",
              "var stop_button = document.createElement('button');\n",
              "stop_button.textContent = \"Stop Recording\";\n",
              "stop_button.style.display = \"block\";\n",
              "stop_button.style.margin = \"10px 0\";\n",
              "stop_button.disabled = true;\n",
              "stop_button.onclick = async () => {\n",
              "  const audio = await stopRecording();\n",
              "  google.colab.kernel.invokeFunction('notebook.upload_audio', [audio], {});\n",
              "};\n",
              "\n",
              "document.body.appendChild(start_button);\n",
              "document.body.appendChild(stop_button);\n"
            ]
          },
          "metadata": {}
        },
        {
          "output_type": "stream",
          "name": "stdout",
          "text": [
            "\n",
            "Transcription: I need to create a table that has a height of 2.75 ft with a thickness of 75 in with 4 sides, and a radius of 3 ft the table must have a corner fillet of 0.2 in with overall edge fillets of 1 inch, for the legs make the leg radius 2 inches with a skew of 5 degrees, and a taper of 3 inches.\n"
          ]
        }
      ]
    },
    {
      "cell_type": "code",
      "source": [
        "prompt = transcript_text\n",
        "print(prompt)"
      ],
      "metadata": {
        "colab": {
          "base_uri": "https://localhost:8080/"
        },
        "id": "hHsNfrnf1QnF",
        "outputId": "aa4b8238-7f57-4a16-8e8e-d724baad3b1e"
      },
      "execution_count": null,
      "outputs": [
        {
          "output_type": "stream",
          "name": "stdout",
          "text": [
            "I need to create a table that has a height of 2.75 ft with a thickness of 75 in with 4 sides, and a radius of 3 ft the table must have a corner fillet of 0.2 in with overall edge fillets of 1 inch, for the legs make the leg radius 2 inches with a skew of 5 degrees, and a taper of 3 inches.\n"
          ]
        }
      ]
    },
    {
      "cell_type": "markdown",
      "source": [
        "## Capitalize"
      ],
      "metadata": {
        "id": "C7W_DFMi0cLS"
      }
    },
    {
      "cell_type": "code",
      "source": [
        "#Option to Type Prompt Instead\n",
        "prompt = \"I need to create a table with 3 foot sides and a height of 3 feet and use a leg insert of 4 inches make it 2 inches thick with corner fillets of 4 inches.\""
      ],
      "metadata": {
        "id": "WjJ6gw6f4Ktv"
      },
      "execution_count": 90,
      "outputs": []
    },
    {
      "cell_type": "code",
      "source": [
        "# List of specific words to capitalize\n",
        "words_to_capitalize = [\"tall\", \"height\", \"thickness\", \"thick\", \"radius\", \"corner fillet\", \"edge fillets\", \"leg insert\", \"high\", \"sides\", \"ft\", \"feet\", \"inch\", \"inches\", \"in\", \"fillet\", \"fillets\",]\n",
        "\n",
        "# Tokenize the prompt into words\n",
        "tokens = word_tokenize(prompt)\n",
        "\n",
        "# Perform part-of-speech tagging\n",
        "tagged_tokens = pos_tag(tokens)\n",
        "\n",
        "# Initialize a list to store capitalized words\n",
        "capitalized_words = []"
      ],
      "metadata": {
        "id": "cAmwhcWC2bT2"
      },
      "execution_count": 44,
      "outputs": []
    },
    {
      "cell_type": "code",
      "source": [
        "# Iterate through tagged tokens\n",
        "for token, tag in tagged_tokens:\n",
        "    if (token.lower() in words_to_capitalize or\n",
        "        tag.startswith('NN')):  # NN for nouns, VB for verbs, JJ for adjectives\n",
        "        capitalized_words.append(token.capitalize())\n",
        "    else:\n",
        "        capitalized_words.append(token)\n",
        "\n",
        "# Join the words back into a single string\n",
        "capitalized_prompt = ' '.join(capitalized_words)\n",
        "\n",
        "# Remove any space before the period at the end\n",
        "if capitalized_prompt.endswith('.'):\n",
        "    capitalized_prompt = capitalized_prompt[:-2] + '.'"
      ],
      "metadata": {
        "id": "Ev4uFBF82d4e"
      },
      "execution_count": 45,
      "outputs": []
    },
    {
      "cell_type": "code",
      "source": [
        "print(\"Original Prompt:\")\n",
        "print(prompt)\n",
        "print(\"\\nCapitalized Prompt:\")\n",
        "print(capitalized_prompt)"
      ],
      "metadata": {
        "colab": {
          "base_uri": "https://localhost:8080/"
        },
        "id": "m8fA7z6t2f0t",
        "outputId": "b8371560-40ff-4cb7-8da9-c2b06ebee744"
      },
      "execution_count": 46,
      "outputs": [
        {
          "output_type": "stream",
          "name": "stdout",
          "text": [
            "Original Prompt:\n",
            "I need to create a table with 3 foot sides and a height of 3 feet and use a leg insert of 4 inches make it 2 inches thick with corner fillets of 4 inches.\n",
            "\n",
            "Capitalized Prompt:\n",
            "I need to create a Table with 3 Foot Sides and a Height of 3 Feet and use a Leg Insert of 4 Inches make it 2 Inches Thick with corner Fillets of 4 Inches.\n"
          ]
        }
      ]
    },
    {
      "cell_type": "markdown",
      "source": [
        "## Find / Assign Variables for Family Member Creation"
      ],
      "metadata": {
        "id": "VrHeJMUB5mLJ"
      }
    },
    {
      "cell_type": "code",
      "source": [
        "# Define possible synonyms for each parameter\n",
        "parameter_synonyms = {\n",
        "    \"Height\": [\"height\", \"tall\", \"elevation\", \"high\"],\n",
        "    \"Corner Fillet\": [\"corner fillet\", \"fillet\", \"rounded corner\", \"corner fillets\", \"fillets\"],\n",
        "    \"Leg Insert\": [\"leg insert\", \"leg distance\", \"leg spacing\", \"inserts\", \"leg insert distance of \"],\n",
        "    \"Sides\": [\"sides\", \"edges\"],\n",
        "    \"Thickness\": [\"thickness\", \"thick\", \"depth\"]\n",
        "}"
      ],
      "metadata": {
        "id": "qCmdMwbQ1SmC"
      },
      "execution_count": 47,
      "outputs": []
    },
    {
      "cell_type": "code",
      "source": [
        "# Function to find the closest number to a keyword, considering proximity and grammar\n",
        "def find_closest_value(keyword, text):\n",
        "    pattern = re.compile(r'(\\b\\d+(\\.\\d+)?\\b)\\s*(feet|foot|inches|inch|ft|in|inches.|sides)?')\n",
        "    matches = pattern.finditer(text)\n",
        "    keyword_position = text.find(keyword)\n",
        "\n",
        "    closest_distance = float('inf')\n",
        "    closest_value = None\n",
        "\n",
        "    for match in matches:\n",
        "        number, _, unit = match.groups()\n",
        "        start, end = match.span()\n",
        "\n",
        "        # Calculate the distance between the keyword and the number\n",
        "        distance = abs(keyword_position - start)\n",
        "\n",
        "        # Determine the direction (before or after) of the keyword relative to the number\n",
        "        if keyword_position < start:  # Keyword before number\n",
        "            direction = \"after\"\n",
        "        else:  # Keyword after number\n",
        "            direction = \"before\"\n",
        "\n",
        "        # Only consider this match if it's closer than any previously found\n",
        "        if distance < closest_distance:\n",
        "            closest_distance = distance\n",
        "            closest_value = f\"{number} {unit}\".strip()\n",
        "\n",
        "            # Ensure grammatical correctness by checking direction\n",
        "            if direction == \"after\" and closest_distance > len(keyword):\n",
        "                continue\n",
        "\n",
        "    return closest_value\n",
        "\n",
        "# Extract parameters\n",
        "parameters = {}\n",
        "\n",
        "for parameter, synonyms in parameter_synonyms.items():\n",
        "    for synonym in synonyms:\n",
        "        if synonym in prompt:\n",
        "            value = find_closest_value(synonym, prompt)\n",
        "            if value:\n",
        "                parameters[parameter] = value\n",
        "                break\n",
        "\n",
        "# Output the extracted parameters\n",
        "print(json.dumps(parameters, indent=2))"
      ],
      "metadata": {
        "colab": {
          "base_uri": "https://localhost:8080/"
        },
        "id": "o5UA7KD_1Uc_",
        "outputId": "2fc887a9-cf59-44c0-e1bf-1a2067543cda"
      },
      "execution_count": 48,
      "outputs": [
        {
          "output_type": "stream",
          "name": "stdout",
          "text": [
            "{\n",
            "  \"Height\": \"3 feet\",\n",
            "  \"Corner Fillet\": \"4 inches\",\n",
            "  \"Leg Insert\": \"4 inches\",\n",
            "  \"Sides\": \"3 foot\",\n",
            "  \"Thickness\": \"2 inches\"\n",
            "}\n"
          ]
        }
      ]
    },
    {
      "cell_type": "markdown",
      "source": [
        "## Export JSON for Revit API"
      ],
      "metadata": {
        "id": "j-ejtKJCDxBJ"
      }
    },
    {
      "cell_type": "code",
      "source": [
        "parameters"
      ],
      "metadata": {
        "colab": {
          "base_uri": "https://localhost:8080/"
        },
        "id": "lQ1ffshMEG3d",
        "outputId": "7b60b46b-3692-414d-fd30-c7af6bca6f8e"
      },
      "execution_count": 49,
      "outputs": [
        {
          "output_type": "execute_result",
          "data": {
            "text/plain": [
              "{'Height': '3 feet',\n",
              " 'Corner Fillet': '4 inches',\n",
              " 'Leg Insert': '4 inches',\n",
              " 'Sides': '3 foot',\n",
              " 'Thickness': '2 inches'}"
            ]
          },
          "metadata": {},
          "execution_count": 49
        }
      ]
    },
    {
      "cell_type": "code",
      "source": [
        "# Define the filename for the JSON file\n",
        "json_filename = \"family_parameters.json\""
      ],
      "metadata": {
        "id": "Xz09vRTTENzH"
      },
      "execution_count": 50,
      "outputs": []
    },
    {
      "cell_type": "code",
      "source": [
        "# Write the dictionary to a JSON file\n",
        "with open(json_filename, 'w') as json_file:\n",
        "    json.dump(parameters, json_file, indent=4)"
      ],
      "metadata": {
        "id": "342AW6zuFUIb"
      },
      "execution_count": 51,
      "outputs": []
    },
    {
      "cell_type": "code",
      "source": [
        "# Trigger a download of the JSON file in the browser\n",
        "files.download(json_filename)"
      ],
      "metadata": {
        "colab": {
          "base_uri": "https://localhost:8080/",
          "height": 17
        },
        "id": "CZtN9T0TFWuU",
        "outputId": "273254f6-1037-4a26-b5df-5c8e09902582"
      },
      "execution_count": 52,
      "outputs": [
        {
          "output_type": "display_data",
          "data": {
            "text/plain": [
              "<IPython.core.display.Javascript object>"
            ],
            "application/javascript": [
              "\n",
              "    async function download(id, filename, size) {\n",
              "      if (!google.colab.kernel.accessAllowed) {\n",
              "        return;\n",
              "      }\n",
              "      const div = document.createElement('div');\n",
              "      const label = document.createElement('label');\n",
              "      label.textContent = `Downloading \"${filename}\": `;\n",
              "      div.appendChild(label);\n",
              "      const progress = document.createElement('progress');\n",
              "      progress.max = size;\n",
              "      div.appendChild(progress);\n",
              "      document.body.appendChild(div);\n",
              "\n",
              "      const buffers = [];\n",
              "      let downloaded = 0;\n",
              "\n",
              "      const channel = await google.colab.kernel.comms.open(id);\n",
              "      // Send a message to notify the kernel that we're ready.\n",
              "      channel.send({})\n",
              "\n",
              "      for await (const message of channel.messages) {\n",
              "        // Send a message to notify the kernel that we're ready.\n",
              "        channel.send({})\n",
              "        if (message.buffers) {\n",
              "          for (const buffer of message.buffers) {\n",
              "            buffers.push(buffer);\n",
              "            downloaded += buffer.byteLength;\n",
              "            progress.value = downloaded;\n",
              "          }\n",
              "        }\n",
              "      }\n",
              "      const blob = new Blob(buffers, {type: 'application/binary'});\n",
              "      const a = document.createElement('a');\n",
              "      a.href = window.URL.createObjectURL(blob);\n",
              "      a.download = filename;\n",
              "      div.appendChild(a);\n",
              "      a.click();\n",
              "      div.remove();\n",
              "    }\n",
              "  "
            ]
          },
          "metadata": {}
        },
        {
          "output_type": "display_data",
          "data": {
            "text/plain": [
              "<IPython.core.display.Javascript object>"
            ],
            "application/javascript": [
              "download(\"download_30142071-bb47-4f39-bd77-79a49dc60f23\", \"family_parameters.json\", 141)"
            ]
          },
          "metadata": {}
        }
      ]
    },
    {
      "cell_type": "markdown",
      "source": [
        "## Export Dictionary"
      ],
      "metadata": {
        "id": "Q0j0iDQ36-ei"
      }
    },
    {
      "cell_type": "code",
      "source": [
        "def convert_to_revit_units(value):\n",
        "    \"\"\"Convert values to Revit-compatible units.\"\"\"\n",
        "    if 'foot' in value or 'feet' in value:\n",
        "        number = re.match(r'(\\d+)', value).group()\n",
        "        return f\"{number}ft 0in\"\n",
        "    elif 'inch' in value or 'inches' in value:\n",
        "        number = re.match(r'(\\d+)', value).group()\n",
        "        return f\"{number}in \"\n",
        "    return value\n",
        "\n",
        "def prepare_revit_parameters(parameters):\n",
        "    # Define the parameter dictionary with mappings to Revit family parameters\n",
        "    revit_parameters = {\n",
        "        \"Height\": {\"ParameterName\": \"Height\", \"Value\": convert_to_revit_units(parameters.get(\"Height\", \"\")), \"Unit\": \"feet\"},\n",
        "        \"Thickness\": {\"ParameterName\": \"Thickness\", \"Value\": convert_to_revit_units(parameters.get(\"Thickness\", \"\")), \"Unit\": \"in\"},\n",
        "        \"Sides\": {\"ParameterName\": \"Number of Sides\", \"Value\": parameters.get(\"Sides\", \"\"), \"Unit\": \"in\"},\n",
        "        \"Leg Insert\": {\"ParameterName\": \"Leg Insert\", \"Value\": convert_to_revit_units(parameters.get(\"Leg Insert\", \"\")), \"Unit\": \"in\"},\n",
        "        \"Corner Fillet\": {\"ParameterName\": \"Corner Fillet\", \"Value\": convert_to_revit_units(parameters.get(\"Corner Fillet\", \"\")), \"Unit\": \"in\"}\n",
        "    }\n",
        "\n",
        "    return revit_parameters\n",
        "\n",
        "revit_parameters = prepare_revit_parameters(parameters)"
      ],
      "metadata": {
        "id": "je-chuOa7M4X"
      },
      "execution_count": 87,
      "outputs": []
    },
    {
      "cell_type": "code",
      "source": [
        "# Define the filename for the JSON file\n",
        "json_filename = \"family_parameters.json\""
      ],
      "metadata": {
        "id": "GI-2QWlw7Wcs"
      },
      "execution_count": 64,
      "outputs": []
    },
    {
      "cell_type": "code",
      "source": [
        "# Write the dictionary to a JSON file\n",
        "with open(json_filename, 'w') as json_file:\n",
        "    json.dump(revit_parameters, json_file, indent=4)"
      ],
      "metadata": {
        "id": "k1thsYaK7ZRP"
      },
      "execution_count": 65,
      "outputs": []
    },
    {
      "cell_type": "code",
      "source": [
        "# Output the dictionary to check the structure\n",
        "print(json.dumps(revit_parameters, indent=4))"
      ],
      "metadata": {
        "colab": {
          "base_uri": "https://localhost:8080/"
        },
        "id": "9IDJ3CTc7bO7",
        "outputId": "a27773df-9ae6-45b2-f64f-cba8d3517c4d"
      },
      "execution_count": 89,
      "outputs": [
        {
          "output_type": "stream",
          "name": "stdout",
          "text": [
            "{\n",
            "    \"Height\": {\n",
            "        \"ParameterName\": \"Height\",\n",
            "        \"Value\": \"3ft 0in\",\n",
            "        \"Unit\": \"feet\"\n",
            "    },\n",
            "    \"Thickness\": {\n",
            "        \"ParameterName\": \"Thickness\",\n",
            "        \"Value\": \"2in \",\n",
            "        \"Unit\": \"in\"\n",
            "    },\n",
            "    \"Sides\": {\n",
            "        \"ParameterName\": \"Number of Sides\",\n",
            "        \"Value\": \"3 foot\",\n",
            "        \"Unit\": \"in\"\n",
            "    },\n",
            "    \"Leg Insert\": {\n",
            "        \"ParameterName\": \"Leg Insert\",\n",
            "        \"Value\": \"4in \",\n",
            "        \"Unit\": \"in\"\n",
            "    },\n",
            "    \"Corner Fillet\": {\n",
            "        \"ParameterName\": \"Corner Fillet\",\n",
            "        \"Value\": \"4in \",\n",
            "        \"Unit\": \"in\"\n",
            "    }\n",
            "}\n"
          ]
        }
      ]
    },
    {
      "cell_type": "code",
      "source": [
        "# Trigger a download of the JSON file in the browser\n",
        "files.download(json_filename)"
      ],
      "metadata": {
        "colab": {
          "base_uri": "https://localhost:8080/",
          "height": 17
        },
        "id": "lP5-TvKO7jfL",
        "outputId": "b4771f10-4089-441b-a79a-daafd145e1a9"
      },
      "execution_count": 57,
      "outputs": [
        {
          "output_type": "display_data",
          "data": {
            "text/plain": [
              "<IPython.core.display.Javascript object>"
            ],
            "application/javascript": [
              "\n",
              "    async function download(id, filename, size) {\n",
              "      if (!google.colab.kernel.accessAllowed) {\n",
              "        return;\n",
              "      }\n",
              "      const div = document.createElement('div');\n",
              "      const label = document.createElement('label');\n",
              "      label.textContent = `Downloading \"${filename}\": `;\n",
              "      div.appendChild(label);\n",
              "      const progress = document.createElement('progress');\n",
              "      progress.max = size;\n",
              "      div.appendChild(progress);\n",
              "      document.body.appendChild(div);\n",
              "\n",
              "      const buffers = [];\n",
              "      let downloaded = 0;\n",
              "\n",
              "      const channel = await google.colab.kernel.comms.open(id);\n",
              "      // Send a message to notify the kernel that we're ready.\n",
              "      channel.send({})\n",
              "\n",
              "      for await (const message of channel.messages) {\n",
              "        // Send a message to notify the kernel that we're ready.\n",
              "        channel.send({})\n",
              "        if (message.buffers) {\n",
              "          for (const buffer of message.buffers) {\n",
              "            buffers.push(buffer);\n",
              "            downloaded += buffer.byteLength;\n",
              "            progress.value = downloaded;\n",
              "          }\n",
              "        }\n",
              "      }\n",
              "      const blob = new Blob(buffers, {type: 'application/binary'});\n",
              "      const a = document.createElement('a');\n",
              "      a.href = window.URL.createObjectURL(blob);\n",
              "      a.download = filename;\n",
              "      div.appendChild(a);\n",
              "      a.click();\n",
              "      div.remove();\n",
              "    }\n",
              "  "
            ]
          },
          "metadata": {}
        },
        {
          "output_type": "display_data",
          "data": {
            "text/plain": [
              "<IPython.core.display.Javascript object>"
            ],
            "application/javascript": [
              "download(\"download_062514a3-b14c-4330-bb7a-b917cd75732a\", \"family_parameters.json\", 575)"
            ]
          },
          "metadata": {}
        }
      ]
    }
  ]
}