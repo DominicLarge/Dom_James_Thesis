{
 "cells": [
  {
   "cell_type": "markdown",
   "metadata": {},
   "source": [
    "## Dependencies "
   ]
  },
  {
   "cell_type": "code",
   "execution_count": 77,
   "metadata": {},
   "outputs": [
    {
     "name": "stdout",
     "output_type": "stream",
     "text": [
      "Requirement already satisfied: pyaudio in c:\\users\\dxl33\\appdata\\local\\programs\\python\\python310\\lib\\site-packages (0.2.14)\n",
      "Requirement already satisfied: SpeechRecognition in c:\\users\\dxl33\\appdata\\local\\programs\\python\\python310\\lib\\site-packages (3.10.4)\n",
      "Requirement already satisfied: keyboard in c:\\users\\dxl33\\appdata\\local\\programs\\python\\python310\\lib\\site-packages (0.13.5)\n",
      "Requirement already satisfied: requests>=2.26.0 in c:\\users\\dxl33\\appdata\\local\\programs\\python\\python310\\lib\\site-packages (from SpeechRecognition) (2.32.3)\n",
      "Requirement already satisfied: typing-extensions in c:\\users\\dxl33\\appdata\\local\\programs\\python\\python310\\lib\\site-packages (from SpeechRecognition) (4.12.2)\n",
      "Requirement already satisfied: certifi>=2017.4.17 in c:\\users\\dxl33\\appdata\\local\\programs\\python\\python310\\lib\\site-packages (from requests>=2.26.0->SpeechRecognition) (2024.7.4)\n",
      "Requirement already satisfied: charset-normalizer<4,>=2 in c:\\users\\dxl33\\appdata\\local\\programs\\python\\python310\\lib\\site-packages (from requests>=2.26.0->SpeechRecognition) (3.3.2)\n",
      "Requirement already satisfied: urllib3<3,>=1.21.1 in c:\\users\\dxl33\\appdata\\local\\programs\\python\\python310\\lib\\site-packages (from requests>=2.26.0->SpeechRecognition) (2.2.2)\n",
      "Requirement already satisfied: idna<4,>=2.5 in c:\\users\\dxl33\\appdata\\local\\programs\\python\\python310\\lib\\site-packages (from requests>=2.26.0->SpeechRecognition) (3.7)\n",
      "Note: you may need to restart the kernel to use updated packages.\n"
     ]
    },
    {
     "name": "stderr",
     "output_type": "stream",
     "text": [
      "\n",
      "[notice] A new release of pip is available: 23.0.1 -> 24.2\n",
      "[notice] To update, run: python.exe -m pip install --upgrade pip\n"
     ]
    }
   ],
   "source": [
    "%pip install pyaudio SpeechRecognition keyboard"
   ]
  },
  {
   "cell_type": "code",
   "execution_count": 78,
   "metadata": {},
   "outputs": [],
   "source": [
    "import pyaudio\n",
    "import keyboard"
   ]
  },
  {
   "cell_type": "code",
   "execution_count": 79,
   "metadata": {},
   "outputs": [
    {
     "name": "stdout",
     "output_type": "stream",
     "text": [
      "Requirement already satisfied: ffmpeg in c:\\users\\dxl33\\appdata\\local\\programs\\python\\python310\\lib\\site-packages (1.4)\n",
      "Note: you may need to restart the kernel to use updated packages.\n"
     ]
    },
    {
     "name": "stderr",
     "output_type": "stream",
     "text": [
      "\n",
      "[notice] A new release of pip is available: 23.0.1 -> 24.2\n",
      "[notice] To update, run: python.exe -m pip install --upgrade pip\n"
     ]
    }
   ],
   "source": [
    "%pip install ffmpeg"
   ]
  },
  {
   "cell_type": "code",
   "execution_count": 80,
   "metadata": {},
   "outputs": [
    {
     "name": "stdout",
     "output_type": "stream",
     "text": [
      "Requirement already satisfied: pydub in c:\\users\\dxl33\\appdata\\local\\programs\\python\\python310\\lib\\site-packages (0.25.1)Note: you may need to restart the kernel to use updated packages.\n",
      "\n",
      "Requirement already satisfied: SpeechRecognition in c:\\users\\dxl33\\appdata\\local\\programs\\python\\python310\\lib\\site-packages (3.10.4)\n",
      "Requirement already satisfied: word2number in c:\\users\\dxl33\\appdata\\local\\programs\\python\\python310\\lib\\site-packages (1.1)\n",
      "Requirement already satisfied: typing-extensions in c:\\users\\dxl33\\appdata\\local\\programs\\python\\python310\\lib\\site-packages (from SpeechRecognition) (4.12.2)\n",
      "Requirement already satisfied: requests>=2.26.0 in c:\\users\\dxl33\\appdata\\local\\programs\\python\\python310\\lib\\site-packages (from SpeechRecognition) (2.32.3)\n",
      "Requirement already satisfied: idna<4,>=2.5 in c:\\users\\dxl33\\appdata\\local\\programs\\python\\python310\\lib\\site-packages (from requests>=2.26.0->SpeechRecognition) (3.7)\n",
      "Requirement already satisfied: urllib3<3,>=1.21.1 in c:\\users\\dxl33\\appdata\\local\\programs\\python\\python310\\lib\\site-packages (from requests>=2.26.0->SpeechRecognition) (2.2.2)\n",
      "Requirement already satisfied: certifi>=2017.4.17 in c:\\users\\dxl33\\appdata\\local\\programs\\python\\python310\\lib\\site-packages (from requests>=2.26.0->SpeechRecognition) (2024.7.4)\n",
      "Requirement already satisfied: charset-normalizer<4,>=2 in c:\\users\\dxl33\\appdata\\local\\programs\\python\\python310\\lib\\site-packages (from requests>=2.26.0->SpeechRecognition) (3.3.2)\n"
     ]
    },
    {
     "name": "stderr",
     "output_type": "stream",
     "text": [
      "\n",
      "[notice] A new release of pip is available: 23.0.1 -> 24.2\n",
      "[notice] To update, run: python.exe -m pip install --upgrade pip\n"
     ]
    }
   ],
   "source": [
    "%pip install pydub SpeechRecognition word2number\n"
   ]
  },
  {
   "cell_type": "code",
   "execution_count": 81,
   "metadata": {},
   "outputs": [
    {
     "name": "stdout",
     "output_type": "stream",
     "text": [
      "Requirement already satisfied: nltk in c:\\users\\dxl33\\appdata\\local\\programs\\python\\python310\\lib\\site-packages (3.8.2)\n",
      "Requirement already satisfied: joblib in c:\\users\\dxl33\\appdata\\local\\programs\\python\\python310\\lib\\site-packages (from nltk) (1.4.2)\n",
      "Requirement already satisfied: tqdm in c:\\users\\dxl33\\appdata\\local\\programs\\python\\python310\\lib\\site-packages (from nltk) (4.66.4)\n",
      "Requirement already satisfied: click in c:\\users\\dxl33\\appdata\\local\\programs\\python\\python310\\lib\\site-packages (from nltk) (8.1.7)\n",
      "Requirement already satisfied: regex>=2021.8.3 in c:\\users\\dxl33\\appdata\\local\\programs\\python\\python310\\lib\\site-packages (from nltk) (2024.7.24)\n",
      "Requirement already satisfied: colorama in c:\\users\\dxl33\\appdata\\local\\programs\\python\\python310\\lib\\site-packages (from click->nltk) (0.4.6)\n",
      "Note: you may need to restart the kernel to use updated packages.\n"
     ]
    },
    {
     "name": "stderr",
     "output_type": "stream",
     "text": [
      "\n",
      "[notice] A new release of pip is available: 23.0.1 -> 24.2\n",
      "[notice] To update, run: python.exe -m pip install --upgrade pip\n"
     ]
    }
   ],
   "source": [
    "%pip install nltk"
   ]
  },
  {
   "cell_type": "code",
   "execution_count": 82,
   "metadata": {},
   "outputs": [
    {
     "name": "stderr",
     "output_type": "stream",
     "text": [
      "[nltk_data] Downloading package punkt to\n",
      "[nltk_data]     C:\\Users\\dxl33\\AppData\\Roaming\\nltk_data...\n",
      "[nltk_data]   Package punkt is already up-to-date!\n",
      "[nltk_data] Downloading package averaged_perceptron_tagger to\n",
      "[nltk_data]     C:\\Users\\dxl33\\AppData\\Roaming\\nltk_data...\n",
      "[nltk_data]   Package averaged_perceptron_tagger is already up-to-\n",
      "[nltk_data]       date!\n"
     ]
    },
    {
     "data": {
      "text/plain": [
       "True"
      ]
     },
     "execution_count": 82,
     "metadata": {},
     "output_type": "execute_result"
    }
   ],
   "source": [
    "import re\n",
    "from word2number import w2n\n",
    "import nltk\n",
    "from nltk import word_tokenize, pos_tag, sent_tokenize\n",
    "import json\n",
    "from IPython.display import display, Javascript\n",
    "import base64\n",
    "import speech_recognition as sr\n",
    "from pydub import AudioSegment\n",
    "import io\n",
    "\n",
    "# Download NLTK resources\n",
    "nltk.download('punkt')\n",
    "nltk.download('averaged_perceptron_tagger')\n"
   ]
  },
  {
   "cell_type": "markdown",
   "metadata": {},
   "source": [
    "## Define Recorder Class"
   ]
  },
  {
   "cell_type": "code",
   "execution_count": 32,
   "metadata": {},
   "outputs": [],
   "source": [
    "class Recorder:\n",
    "    def __init__(self, silence_timeout=15):\n",
    "        self.recognizer = sr.Recognizer()\n",
    "        self.silence_timeout = silence_timeout  # Time to wait for silence before stopping\n",
    "\n",
    "    def record_audio(self):\n",
    "        with sr.Microphone() as source:\n",
    "            print(\"Adjusting for ambient noise, please wait...\")\n",
    "            self.recognizer.adjust_for_ambient_noise(source)\n",
    "            print(\"Recording... Speak now.\")\n",
    "            \n",
    "            # Record audio until silence is detected\n",
    "            audio_data = self.recognizer.listen(source, timeout=self.silence_timeout, phrase_time_limit=self.silence_timeout)\n",
    "            print(\"Recording stopped.\")\n",
    "            \n",
    "            return audio_data\n"
   ]
  },
  {
   "cell_type": "markdown",
   "metadata": {},
   "source": [
    "## Define Transcriber Class"
   ]
  },
  {
   "cell_type": "code",
   "execution_count": 33,
   "metadata": {},
   "outputs": [],
   "source": [
    "class Transcriber:\n",
    "    def __init__(self):\n",
    "        self.recognizer = sr.Recognizer()\n",
    "    \n",
    "    def transcribe_audio(self, audio_data):\n",
    "        try:\n",
    "            print(\"Transcribing...\")\n",
    "            prompt = self.recognizer.recognize_google(audio_data)\n",
    "            print(\"You said: \" + prompt)\n",
    "            return prompt\n",
    "        except sr.UnknownValueError:\n",
    "            print(\"Google Speech Recognition could not understand the audio\")\n",
    "            return \"\"\n",
    "        except sr.RequestError as e:\n",
    "            print(f\"Could not request results from Google Speech Recognition service; {e}\")\n",
    "            return \"\""
   ]
  },
  {
   "cell_type": "markdown",
   "metadata": {},
   "source": [
    "## Record Audio"
   ]
  },
  {
   "cell_type": "code",
   "execution_count": 40,
   "metadata": {},
   "outputs": [
    {
     "name": "stdout",
     "output_type": "stream",
     "text": [
      "Adjusting for ambient noise, please wait...\n",
      "Recording... Speak now.\n",
      "Recording stopped.\n",
      "Transcribing...\n",
      "You said: I like cheeseburgers you're the best especially with bacon love them\n",
      "Transcribed Prompt: I like cheeseburgers you're the best especially with bacon love them\n"
     ]
    }
   ],
   "source": [
    "def main():\n",
    "    # Create a Recorder instance with a silence timeout (e.g., 5 seconds)\n",
    "    recorder = Recorder(silence_timeout=15)\n",
    "    transcriber = Transcriber()\n",
    "\n",
    "    audio_data = recorder.record_audio()\n",
    "    prompt = transcriber.transcribe_audio(audio_data)\n",
    "    \n",
    "    # Check if prompt is empty\n",
    "    if not prompt:\n",
    "        print(\"No transcription available.\")\n",
    "    else:\n",
    "        print(f\"Transcribed Prompt: {prompt}\")\n",
    "\n",
    "    # 'prompt' is now defined and can be used in further processing\n",
    "    return prompt\n",
    "\n",
    "# Run the main function and capture the prompt\n",
    "prompt = main()\n"
   ]
  },
  {
   "cell_type": "code",
   "execution_count": 71,
   "metadata": {},
   "outputs": [],
   "source": [
    "#Option to Type Prompt Instead\n",
    "prompt = \"I need to alter existing tables 2 and 5 to now have 3 foot sides and a height of 3 feet and use a leg insert of 4 inches make it 2 inches thick with corner fillets of 4 inches.\""
   ]
  },
  {
   "cell_type": "code",
   "execution_count": 72,
   "metadata": {},
   "outputs": [
    {
     "name": "stdout",
     "output_type": "stream",
     "text": [
      "I need to alter existing tables 2 and 5 to now have 3 foot sides and a height of 3 feet and use a leg insert of 4 inches make it 2 inches thick with corner fillets of 4 inches.\n"
     ]
    }
   ],
   "source": [
    "speech = prompt\n",
    "\n",
    "print(speech)"
   ]
  },
  {
   "cell_type": "markdown",
   "metadata": {},
   "source": [
    "## Find / Assign Variables"
   ]
  },
  {
   "cell_type": "code",
   "execution_count": 85,
   "metadata": {},
   "outputs": [],
   "source": [
    "import re\n",
    "import json"
   ]
  },
  {
   "cell_type": "markdown",
   "metadata": {},
   "source": [
    "### Create or Modify"
   ]
  },
  {
   "cell_type": "code",
   "execution_count": 73,
   "metadata": {},
   "outputs": [],
   "source": [
    "# Define keywords for actions\n",
    "action_keywords = {\n",
    "    \"Create\": [\"create\", \"make\", \"build\", \"design\"],\n",
    "    \"Modify\": [\"modify\", \"change\", \"adjust\", \"alter\"]\n",
    "}"
   ]
  },
  {
   "cell_type": "code",
   "execution_count": 76,
   "metadata": {},
   "outputs": [
    {
     "name": "stdout",
     "output_type": "stream",
     "text": [
      "Processing text: 'i need to alter existing tables 2 and 5 to now have 3 foot sides and a height of 3 feet and use a leg insert of 4 inches make it 2 inches thick with corner fillets of 4 inches.'\n",
      "Detected Action: Modify\n"
     ]
    }
   ],
   "source": [
    "# Function to detect action\n",
    "def detect_action(text):\n",
    "    # Convert text to lowercase for case-insensitive comparison\n",
    "    text = text.lower()\n",
    "    print(f\"Processing text: '{text}'\")  # Debugging: print the processed text\n",
    "\n",
    "    # Initialize action variable\n",
    "    detected_action = \"UNKNOWN\"\n",
    "\n",
    "    # Check for CREATE keywords\n",
    "    create_keywords = action_keywords[\"Create\"]\n",
    "    if any(keyword in text for keyword in create_keywords):\n",
    "        detected_action = \"Create\"\n",
    "\n",
    "    # Check for MODIFY keywords\n",
    "    modify_keywords = action_keywords[\"Modify\"]\n",
    "    if any(keyword in text for keyword in modify_keywords):\n",
    "        detected_action = \"Modify\"\n",
    "\n",
    "    return detected_action\n",
    "\n",
    "# Use the prompt to determine action\n",
    "action = detect_action(speech)\n",
    "\n",
    "print(f\"Detected Action: {action}\")\n"
   ]
  },
  {
   "cell_type": "markdown",
   "metadata": {},
   "source": [
    "### Variables"
   ]
  },
  {
   "cell_type": "code",
   "execution_count": 86,
   "metadata": {},
   "outputs": [],
   "source": [
    "# Define possible synonyms for each parameter\n",
    "parameter_synonyms = {\n",
    "    \"Height\": [\"height\", \"tall\", \"elevation\", \"high\"],\n",
    "    \"Corner Fillet\": [\"corner fillet\", \"fillet\", \"rounded corner\", \"corner fillets\", \"fillets\"],\n",
    "    \"Leg Insert\": [\"leg insert\", \"leg distance\", \"leg spacing\", \"inserts\", \"leg insert distance of \"],\n",
    "    \"Sides\": [\"sides\", \"edges\"],\n",
    "    \"Thickness\": [\"thickness\", \"thick\", \"depth\"]\n",
    "}"
   ]
  },
  {
   "cell_type": "code",
   "execution_count": 87,
   "metadata": {},
   "outputs": [
    {
     "name": "stdout",
     "output_type": "stream",
     "text": [
      "{\n",
      "  \"Height\": \"3 feet\",\n",
      "  \"Corner Fillet\": \"4 inches\",\n",
      "  \"Leg Insert\": \"4 inches\",\n",
      "  \"Sides\": \"3 foot\",\n",
      "  \"Thickness\": \"2 inches\"\n",
      "}\n"
     ]
    }
   ],
   "source": [
    "# Function to find the closest number to a keyword, considering proximity and grammar\n",
    "def find_closest_value(keyword, text):\n",
    "    pattern = re.compile(r'(\\b\\d+(\\.\\d+)?\\b)\\s*(feet|foot|inches|inch|ft|in|inches.|sides)?')\n",
    "    matches = pattern.finditer(text)\n",
    "    keyword_position = text.find(keyword)\n",
    "\n",
    "    closest_distance = float('inf')\n",
    "    closest_value = None\n",
    "\n",
    "    for match in matches:\n",
    "        number, _, unit = match.groups()\n",
    "        start, end = match.span()\n",
    "\n",
    "        # Calculate the distance between the keyword and the number\n",
    "        distance = abs(keyword_position - start)\n",
    "\n",
    "        # Determine the direction (before or after) of the keyword relative to the number\n",
    "        if keyword_position < start:  # Keyword before number\n",
    "            direction = \"after\"\n",
    "        else:  # Keyword after number\n",
    "            direction = \"before\"\n",
    "\n",
    "        # Only consider this match if it's closer than any previously found\n",
    "        if distance < closest_distance:\n",
    "            closest_distance = distance\n",
    "            closest_value = f\"{number} {unit}\".strip()\n",
    "\n",
    "            # Ensure grammatical correctness by checking direction\n",
    "            if direction == \"after\" and closest_distance > len(keyword):\n",
    "                continue\n",
    "\n",
    "    return closest_value\n",
    "\n",
    "# Extract parameters\n",
    "parameters = {}\n",
    "\n",
    "for parameter, synonyms in parameter_synonyms.items():\n",
    "    for synonym in synonyms:\n",
    "        if synonym in prompt:\n",
    "            value = find_closest_value(synonym, prompt)\n",
    "            if value:\n",
    "                parameters[parameter] = value\n",
    "                break\n",
    "\n",
    "\n",
    "\n",
    "print(json.dumps(parameters, indent=2))"
   ]
  },
  {
   "cell_type": "markdown",
   "metadata": {},
   "source": [
    "## Prepare / Export Revit Library"
   ]
  },
  {
   "cell_type": "code",
   "execution_count": 90,
   "metadata": {},
   "outputs": [
    {
     "name": "stdout",
     "output_type": "stream",
     "text": [
      "{\n",
      "    \"Action\": \"Modify\",\n",
      "    \"Parameters\": {\n",
      "        \"Height\": {\n",
      "            \"ParameterName\": \"Height\",\n",
      "            \"Value\": \"3ft 0in\",\n",
      "            \"Unit\": \"feet\"\n",
      "        },\n",
      "        \"Thickness\": {\n",
      "            \"ParameterName\": \"Thickness\",\n",
      "            \"Value\": \"2in \",\n",
      "            \"Unit\": \"in\"\n",
      "        },\n",
      "        \"Sides\": {\n",
      "            \"ParameterName\": \"Number of Sides\",\n",
      "            \"Value\": \"3 foot\",\n",
      "            \"Unit\": \"in\"\n",
      "        },\n",
      "        \"Leg Insert\": {\n",
      "            \"ParameterName\": \"Leg Insert\",\n",
      "            \"Value\": \"4in \",\n",
      "            \"Unit\": \"in\"\n",
      "        },\n",
      "        \"Corner Fillet\": {\n",
      "            \"ParameterName\": \"Corner Fillet\",\n",
      "            \"Value\": \"4in \",\n",
      "            \"Unit\": \"in\"\n",
      "        }\n",
      "    }\n",
      "}\n"
     ]
    }
   ],
   "source": [
    "# Prepare Revit parameters including action type\n",
    "def prepare_revit_parameters(parameters, action):\n",
    "    # Define the parameter dictionary with mappings to Revit family parameters\n",
    "    revit_parameters = {\n",
    "        \"Action\": action,\n",
    "        \"Parameters\": {\n",
    "            \"Height\": {\"ParameterName\": \"Height\", \"Value\": convert_to_revit_units(parameters.get(\"Height\", \"\")), \"Unit\": \"feet\"},\n",
    "            \"Thickness\": {\"ParameterName\": \"Thickness\", \"Value\": convert_to_revit_units(parameters.get(\"Thickness\", \"\")), \"Unit\": \"in\"},\n",
    "            \"Sides\": {\"ParameterName\": \"Number of Sides\", \"Value\": parameters.get(\"Sides\", \"\"), \"Unit\": \"in\"},\n",
    "            \"Leg Insert\": {\"ParameterName\": \"Leg Insert\", \"Value\": convert_to_revit_units(parameters.get(\"Leg Insert\", \"\")), \"Unit\": \"in\"},\n",
    "            \"Corner Fillet\": {\"ParameterName\": \"Corner Fillet\", \"Value\": convert_to_revit_units(parameters.get(\"Corner Fillet\", \"\")), \"Unit\": \"in\"}\n",
    "        }\n",
    "    }\n",
    "\n",
    "    return revit_parameters\n",
    "\n",
    "revit_parameters = prepare_revit_parameters(parameters, action)\n",
    "\n",
    "print(json.dumps(revit_parameters, indent=4))"
   ]
  },
  {
   "cell_type": "code",
   "execution_count": 92,
   "metadata": {},
   "outputs": [],
   "source": [
    "# Define the filename for the JSON file\n",
    "json_filename = \"Test2Parameter.json\""
   ]
  },
  {
   "cell_type": "code",
   "execution_count": 93,
   "metadata": {},
   "outputs": [],
   "source": [
    "# Write the dictionary to a JSON file - Writes dictionary to same folder as notebook\n",
    "with open(json_filename, 'w') as json_file:\n",
    "    json.dump(revit_parameters, json_file, indent=4)"
   ]
  }
 ],
 "metadata": {
  "kernelspec": {
   "display_name": "Python 3",
   "language": "python",
   "name": "python3"
  },
  "language_info": {
   "codemirror_mode": {
    "name": "ipython",
    "version": 3
   },
   "file_extension": ".py",
   "mimetype": "text/x-python",
   "name": "python",
   "nbconvert_exporter": "python",
   "pygments_lexer": "ipython3",
   "version": "3.10.11"
  }
 },
 "nbformat": 4,
 "nbformat_minor": 2
}
