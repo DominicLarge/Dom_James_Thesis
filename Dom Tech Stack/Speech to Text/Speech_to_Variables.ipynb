{
 "cells": [
  {
   "cell_type": "markdown",
   "metadata": {},
   "source": [
    "## Dependencies "
   ]
  },
  {
   "cell_type": "code",
   "execution_count": 3,
   "metadata": {},
   "outputs": [
    {
     "name": "stdout",
     "output_type": "stream",
     "text": [
      "Requirement already satisfied: pyaudio in c:\\users\\dxl33\\appdata\\local\\programs\\python\\python310\\lib\\site-packages (0.2.14)\n",
      "Requirement already satisfied: SpeechRecognition in c:\\users\\dxl33\\appdata\\local\\programs\\python\\python310\\lib\\site-packages (3.10.4)\n",
      "Requirement already satisfied: keyboard in c:\\users\\dxl33\\appdata\\local\\programs\\python\\python310\\lib\\site-packages (0.13.5)\n",
      "Requirement already satisfied: requests>=2.26.0 in c:\\users\\dxl33\\appdata\\local\\programs\\python\\python310\\lib\\site-packages (from SpeechRecognition) (2.32.3)\n",
      "Requirement already satisfied: typing-extensions in c:\\users\\dxl33\\appdata\\local\\programs\\python\\python310\\lib\\site-packages (from SpeechRecognition) (4.12.2)\n",
      "Requirement already satisfied: certifi>=2017.4.17 in c:\\users\\dxl33\\appdata\\local\\programs\\python\\python310\\lib\\site-packages (from requests>=2.26.0->SpeechRecognition) (2024.7.4)\n",
      "Requirement already satisfied: urllib3<3,>=1.21.1 in c:\\users\\dxl33\\appdata\\local\\programs\\python\\python310\\lib\\site-packages (from requests>=2.26.0->SpeechRecognition) (2.2.2)\n",
      "Requirement already satisfied: idna<4,>=2.5 in c:\\users\\dxl33\\appdata\\local\\programs\\python\\python310\\lib\\site-packages (from requests>=2.26.0->SpeechRecognition) (3.7)\n",
      "Requirement already satisfied: charset-normalizer<4,>=2 in c:\\users\\dxl33\\appdata\\local\\programs\\python\\python310\\lib\\site-packages (from requests>=2.26.0->SpeechRecognition) (3.3.2)\n"
     ]
    },
    {
     "name": "stderr",
     "output_type": "stream",
     "text": [
      "\n",
      "[notice] A new release of pip is available: 23.0.1 -> 24.2\n",
      "[notice] To update, run: python.exe -m pip install --upgrade pip\n"
     ]
    }
   ],
   "source": [
    "!pip install pyaudio SpeechRecognition keyboard\n"
   ]
  },
  {
   "cell_type": "code",
   "execution_count": 4,
   "metadata": {},
   "outputs": [],
   "source": [
    "import pyaudio\n",
    "import speech_recognition as sr\n",
    "import keyboard"
   ]
  },
  {
   "cell_type": "markdown",
   "metadata": {},
   "source": [
    "## Define Recorder Class"
   ]
  },
  {
   "cell_type": "code",
   "execution_count": 5,
   "metadata": {},
   "outputs": [],
   "source": [
    "class Recorder:\n",
    "    def __init__(self):\n",
    "        self.recognizer = sr.Recognizer()\n",
    "    \n",
    "    def record_audio(self):\n",
    "        with sr.Microphone() as source:\n",
    "            print(\"Adjusting for ambient noise, please wait...\")\n",
    "            self.recognizer.adjust_for_ambient_noise(source)\n",
    "            print(\"Ready to record. Press 'space' to start recording.\")\n",
    "            \n",
    "            # Wait until the user presses the space bar to start recording\n",
    "            keyboard.wait('space')\n",
    "            print(\"Recording... Press 'space' again to stop.\")\n",
    "            \n",
    "            # Start recording\n",
    "            audio_data = self.recognizer.listen(source)\n",
    "            \n",
    "            # Wait until the user presses the space bar to stop recording\n",
    "            keyboard.wait('space')\n",
    "            print(\"Recording stopped.\")\n",
    "            \n",
    "            return audio_data"
   ]
  },
  {
   "cell_type": "markdown",
   "metadata": {},
   "source": [
    "## Define Transcriber Class"
   ]
  },
  {
   "cell_type": "code",
   "execution_count": 6,
   "metadata": {},
   "outputs": [],
   "source": [
    "class Transcriber:\n",
    "    def __init__(self):\n",
    "        self.recognizer = sr.Recognizer()\n",
    "    \n",
    "    def transcribe_audio(self, audio_data):\n",
    "        try:\n",
    "            print(\"Transcribing...\")\n",
    "            text = self.recognizer.recognize_google(audio_data)\n",
    "            print(\"You said: \" + text)\n",
    "        except sr.UnknownValueError:\n",
    "            print(\"Google Speech Recognition could not understand the audio\")\n",
    "        except sr.RequestError as e:\n",
    "            print(f\"Could not request results from Google Speech Recognition service; {e}\")"
   ]
  },
  {
   "cell_type": "markdown",
   "metadata": {},
   "source": [
    "## Record Audio"
   ]
  },
  {
   "cell_type": "code",
   "execution_count": 7,
   "metadata": {},
   "outputs": [
    {
     "name": "stdout",
     "output_type": "stream",
     "text": [
      "Adjusting for ambient noise, please wait...\n",
      "Ready to record. Press 'space' to start recording.\n",
      "Recording... Press 'space' again to stop.\n",
      "Recording stopped.\n",
      "Transcribing...\n",
      "You said: I like cheeseburgers cheeseburgers are my favorite\n"
     ]
    }
   ],
   "source": [
    "def main():\n",
    "    recorder = Recorder()\n",
    "    transcriber = Transcriber()\n",
    "\n",
    "    audio_data = recorder.record_audio()\n",
    "    transcriber.transcribe_audio(audio_data)\n",
    "\n",
    "# Run the main function\n",
    "main() "
   ]
  }
 ],
 "metadata": {
  "kernelspec": {
   "display_name": "Python 3",
   "language": "python",
   "name": "python3"
  },
  "language_info": {
   "codemirror_mode": {
    "name": "ipython",
    "version": 3
   },
   "file_extension": ".py",
   "mimetype": "text/x-python",
   "name": "python",
   "nbconvert_exporter": "python",
   "pygments_lexer": "ipython3",
   "version": "3.10.11"
  }
 },
 "nbformat": 4,
 "nbformat_minor": 2
}
