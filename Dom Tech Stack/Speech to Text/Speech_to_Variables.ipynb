{
 "cells": [
  {
   "cell_type": "markdown",
   "metadata": {},
   "source": [
    "## Dependencies "
   ]
  },
  {
   "cell_type": "code",
   "execution_count": 50,
   "metadata": {},
   "outputs": [
    {
     "name": "stdout",
     "output_type": "stream",
     "text": [
      "Requirement already satisfied: pyaudio in c:\\users\\dxl33\\appdata\\local\\programs\\python\\python310\\lib\\site-packages (0.2.14)\n",
      "Requirement already satisfied: SpeechRecognition in c:\\users\\dxl33\\appdata\\local\\programs\\python\\python310\\lib\\site-packages (3.10.4)\n",
      "Requirement already satisfied: keyboard in c:\\users\\dxl33\\appdata\\local\\programs\\python\\python310\\lib\\site-packages (0.13.5)\n",
      "Requirement already satisfied: typing-extensions in c:\\users\\dxl33\\appdata\\local\\programs\\python\\python310\\lib\\site-packages (from SpeechRecognition) (4.12.2)\n",
      "Requirement already satisfied: requests>=2.26.0 in c:\\users\\dxl33\\appdata\\local\\programs\\python\\python310\\lib\\site-packages (from SpeechRecognition) (2.32.3)\n",
      "Requirement already satisfied: urllib3<3,>=1.21.1 in c:\\users\\dxl33\\appdata\\local\\programs\\python\\python310\\lib\\site-packages (from requests>=2.26.0->SpeechRecognition) (2.2.2)\n",
      "Requirement already satisfied: certifi>=2017.4.17 in c:\\users\\dxl33\\appdata\\local\\programs\\python\\python310\\lib\\site-packages (from requests>=2.26.0->SpeechRecognition) (2024.7.4)\n",
      "Requirement already satisfied: idna<4,>=2.5 in c:\\users\\dxl33\\appdata\\local\\programs\\python\\python310\\lib\\site-packages (from requests>=2.26.0->SpeechRecognition) (3.7)\n",
      "Requirement already satisfied: charset-normalizer<4,>=2 in c:\\users\\dxl33\\appdata\\local\\programs\\python\\python310\\lib\\site-packages (from requests>=2.26.0->SpeechRecognition) (3.3.2)\n"
     ]
    },
    {
     "name": "stderr",
     "output_type": "stream",
     "text": [
      "\n",
      "[notice] A new release of pip is available: 23.0.1 -> 24.2\n",
      "[notice] To update, run: python.exe -m pip install --upgrade pip\n"
     ]
    }
   ],
   "source": [
    "!pip install pyaudio SpeechRecognition keyboard"
   ]
  },
  {
   "cell_type": "code",
   "execution_count": 51,
   "metadata": {},
   "outputs": [],
   "source": [
    "import pyaudio\n",
    "import speech_recognition as sr\n",
    "import keyboard"
   ]
  },
  {
   "cell_type": "code",
   "execution_count": 52,
   "metadata": {},
   "outputs": [
    {
     "name": "stdout",
     "output_type": "stream",
     "text": [
      "Requirement already satisfied: pydub in c:\\users\\dxl33\\appdata\\local\\programs\\python\\python310\\lib\\site-packages (0.25.1)\n",
      "Requirement already satisfied: SpeechRecognition in c:\\users\\dxl33\\appdata\\local\\programs\\python\\python310\\lib\\site-packages (3.10.4)\n",
      "Requirement already satisfied: word2number in c:\\users\\dxl33\\appdata\\local\\programs\\python\\python310\\lib\\site-packages (1.1)\n",
      "Requirement already satisfied: requests>=2.26.0 in c:\\users\\dxl33\\appdata\\local\\programs\\python\\python310\\lib\\site-packages (from SpeechRecognition) (2.32.3)\n",
      "Requirement already satisfied: typing-extensions in c:\\users\\dxl33\\appdata\\local\\programs\\python\\python310\\lib\\site-packages (from SpeechRecognition) (4.12.2)\n",
      "Requirement already satisfied: charset-normalizer<4,>=2 in c:\\users\\dxl33\\appdata\\local\\programs\\python\\python310\\lib\\site-packages (from requests>=2.26.0->SpeechRecognition) (3.3.2)\n",
      "Requirement already satisfied: urllib3<3,>=1.21.1 in c:\\users\\dxl33\\appdata\\local\\programs\\python\\python310\\lib\\site-packages (from requests>=2.26.0->SpeechRecognition) (2.2.2)\n",
      "Requirement already satisfied: idna<4,>=2.5 in c:\\users\\dxl33\\appdata\\local\\programs\\python\\python310\\lib\\site-packages (from requests>=2.26.0->SpeechRecognition) (3.7)\n",
      "Requirement already satisfied: certifi>=2017.4.17 in c:\\users\\dxl33\\appdata\\local\\programs\\python\\python310\\lib\\site-packages (from requests>=2.26.0->SpeechRecognition) (2024.7.4)\n"
     ]
    },
    {
     "name": "stderr",
     "output_type": "stream",
     "text": [
      "\n",
      "[notice] A new release of pip is available: 23.0.1 -> 24.2\n",
      "[notice] To update, run: python.exe -m pip install --upgrade pip\n",
      "'apt-get' is not recognized as an internal or external command,\n",
      "operable program or batch file.\n"
     ]
    }
   ],
   "source": [
    "!pip install pydub SpeechRecognition word2number\n",
    "!apt-get install ffmpeg  # Note: `apt-get` will not work in a standard Jupyter environment. Use a different approach if on Windows or Mac.\n"
   ]
  },
  {
   "cell_type": "code",
   "execution_count": 53,
   "metadata": {},
   "outputs": [
    {
     "name": "stdout",
     "output_type": "stream",
     "text": [
      "Requirement already satisfied: nltk in c:\\users\\dxl33\\appdata\\local\\programs\\python\\python310\\lib\\site-packages (3.8.2)\n",
      "Requirement already satisfied: regex>=2021.8.3 in c:\\users\\dxl33\\appdata\\local\\programs\\python\\python310\\lib\\site-packages (from nltk) (2024.7.24)\n",
      "Requirement already satisfied: click in c:\\users\\dxl33\\appdata\\local\\programs\\python\\python310\\lib\\site-packages (from nltk) (8.1.7)\n",
      "Requirement already satisfied: tqdm in c:\\users\\dxl33\\appdata\\local\\programs\\python\\python310\\lib\\site-packages (from nltk) (4.66.4)\n",
      "Requirement already satisfied: joblib in c:\\users\\dxl33\\appdata\\local\\programs\\python\\python310\\lib\\site-packages (from nltk) (1.4.2)\n",
      "Requirement already satisfied: colorama in c:\\users\\dxl33\\appdata\\local\\programs\\python\\python310\\lib\\site-packages (from click->nltk) (0.4.6)\n"
     ]
    },
    {
     "name": "stderr",
     "output_type": "stream",
     "text": [
      "\n",
      "[notice] A new release of pip is available: 23.0.1 -> 24.2\n",
      "[notice] To update, run: python.exe -m pip install --upgrade pip\n"
     ]
    }
   ],
   "source": [
    "!pip install nltk\n"
   ]
  },
  {
   "cell_type": "code",
   "execution_count": 54,
   "metadata": {},
   "outputs": [
    {
     "name": "stderr",
     "output_type": "stream",
     "text": [
      "[nltk_data] Downloading package punkt to\n",
      "[nltk_data]     C:\\Users\\dxl33\\AppData\\Roaming\\nltk_data...\n",
      "[nltk_data]   Package punkt is already up-to-date!\n",
      "[nltk_data] Downloading package averaged_perceptron_tagger to\n",
      "[nltk_data]     C:\\Users\\dxl33\\AppData\\Roaming\\nltk_data...\n",
      "[nltk_data]   Package averaged_perceptron_tagger is already up-to-\n",
      "[nltk_data]       date!\n"
     ]
    },
    {
     "data": {
      "text/plain": [
       "True"
      ]
     },
     "execution_count": 54,
     "metadata": {},
     "output_type": "execute_result"
    }
   ],
   "source": [
    "import re\n",
    "from word2number import w2n\n",
    "import nltk\n",
    "from nltk import word_tokenize, pos_tag, sent_tokenize\n",
    "import json\n",
    "from IPython.display import display, Javascript\n",
    "import base64\n",
    "import speech_recognition as sr\n",
    "from pydub import AudioSegment\n",
    "import io\n",
    "\n",
    "# Download NLTK resources\n",
    "nltk.download('punkt')\n",
    "nltk.download('averaged_perceptron_tagger')\n"
   ]
  },
  {
   "cell_type": "markdown",
   "metadata": {},
   "source": [
    "## Define Recorder Class"
   ]
  },
  {
   "cell_type": "code",
   "execution_count": 32,
   "metadata": {},
   "outputs": [],
   "source": [
    "class Recorder:\n",
    "    def __init__(self, silence_timeout=15):\n",
    "        self.recognizer = sr.Recognizer()\n",
    "        self.silence_timeout = silence_timeout  # Time to wait for silence before stopping\n",
    "\n",
    "    def record_audio(self):\n",
    "        with sr.Microphone() as source:\n",
    "            print(\"Adjusting for ambient noise, please wait...\")\n",
    "            self.recognizer.adjust_for_ambient_noise(source)\n",
    "            print(\"Recording... Speak now.\")\n",
    "            \n",
    "            # Record audio until silence is detected\n",
    "            audio_data = self.recognizer.listen(source, timeout=self.silence_timeout, phrase_time_limit=self.silence_timeout)\n",
    "            print(\"Recording stopped.\")\n",
    "            \n",
    "            return audio_data\n"
   ]
  },
  {
   "cell_type": "markdown",
   "metadata": {},
   "source": [
    "## Define Transcriber Class"
   ]
  },
  {
   "cell_type": "code",
   "execution_count": 33,
   "metadata": {},
   "outputs": [],
   "source": [
    "class Transcriber:\n",
    "    def __init__(self):\n",
    "        self.recognizer = sr.Recognizer()\n",
    "    \n",
    "    def transcribe_audio(self, audio_data):\n",
    "        try:\n",
    "            print(\"Transcribing...\")\n",
    "            prompt = self.recognizer.recognize_google(audio_data)\n",
    "            print(\"You said: \" + prompt)\n",
    "            return prompt\n",
    "        except sr.UnknownValueError:\n",
    "            print(\"Google Speech Recognition could not understand the audio\")\n",
    "            return \"\"\n",
    "        except sr.RequestError as e:\n",
    "            print(f\"Could not request results from Google Speech Recognition service; {e}\")\n",
    "            return \"\""
   ]
  },
  {
   "cell_type": "markdown",
   "metadata": {},
   "source": [
    "## Record Audio"
   ]
  },
  {
   "cell_type": "code",
   "execution_count": 40,
   "metadata": {},
   "outputs": [
    {
     "name": "stdout",
     "output_type": "stream",
     "text": [
      "Adjusting for ambient noise, please wait...\n",
      "Recording... Speak now.\n",
      "Recording stopped.\n",
      "Transcribing...\n",
      "You said: I like cheeseburgers you're the best especially with bacon love them\n",
      "Transcribed Prompt: I like cheeseburgers you're the best especially with bacon love them\n"
     ]
    }
   ],
   "source": [
    "def main():\n",
    "    # Create a Recorder instance with a silence timeout (e.g., 5 seconds)\n",
    "    recorder = Recorder(silence_timeout=15)\n",
    "    transcriber = Transcriber()\n",
    "\n",
    "    audio_data = recorder.record_audio()\n",
    "    prompt = transcriber.transcribe_audio(audio_data)\n",
    "    \n",
    "    # Check if prompt is empty\n",
    "    if not prompt:\n",
    "        print(\"No transcription available.\")\n",
    "    else:\n",
    "        print(f\"Transcribed Prompt: {prompt}\")\n",
    "\n",
    "    # 'prompt' is now defined and can be used in further processing\n",
    "    return prompt\n",
    "\n",
    "# Run the main function and capture the prompt\n",
    "prompt = main()\n"
   ]
  },
  {
   "cell_type": "code",
   "execution_count": 42,
   "metadata": {},
   "outputs": [],
   "source": [
    "#Option to Type Prompt Instead\n",
    "prompt = \"I need to create a table with 3 foot sides and a height of 3 feet and use a leg insert of 4 inches make it 2 inches thick with corner fillets of 4 inches.\""
   ]
  },
  {
   "cell_type": "code",
   "execution_count": 43,
   "metadata": {},
   "outputs": [
    {
     "name": "stdout",
     "output_type": "stream",
     "text": [
      "I need to create a table with 3 foot sides and a height of 3 feet and use a leg insert of 4 inches make it 2 inches thick with corner fillets of 4 inches.\n"
     ]
    }
   ],
   "source": [
    "speech = prompt\n",
    "\n",
    "print(speech)"
   ]
  },
  {
   "cell_type": "code",
   "execution_count": null,
   "metadata": {},
   "outputs": [],
   "source": []
  }
 ],
 "metadata": {
  "kernelspec": {
   "display_name": "Python 3",
   "language": "python",
   "name": "python3"
  },
  "language_info": {
   "codemirror_mode": {
    "name": "ipython",
    "version": 3
   },
   "file_extension": ".py",
   "mimetype": "text/x-python",
   "name": "python",
   "nbconvert_exporter": "python",
   "pygments_lexer": "ipython3",
   "version": "3.10.11"
  }
 },
 "nbformat": 4,
 "nbformat_minor": 2
}
